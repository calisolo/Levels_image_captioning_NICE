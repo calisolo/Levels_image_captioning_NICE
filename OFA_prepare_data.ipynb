{
  "cells": [
    {
      "cell_type": "markdown",
      "metadata": {
        "id": "view-in-github",
        "colab_type": "text"
      },
      "source": [
        "<a href=\"https://colab.research.google.com/github/kellysolow/OFA-HFeng-NICE/blob/master/OFA_prepare_data.ipynb\" target=\"_parent\"><img src=\"https://colab.research.google.com/assets/colab-badge.svg\" alt=\"Open In Colab\"/></a>"
      ]
    },
    {
      "cell_type": "code",
      "execution_count": null,
      "metadata": {
        "colab": {
          "base_uri": "https://localhost:8080/"
        },
        "id": "86etOUXVA_0I",
        "outputId": "ce58531b-a0ba-4442-de5d-0c998f898d80"
      },
      "outputs": [
        {
          "name": "stdout",
          "output_type": "stream",
          "text": [
            "Mounted at /content/drive\n"
          ]
        }
      ],
      "source": [
        "import pandas as pd\n",
        "from google.colab import drive\n",
        "drive.mount('/content/drive')\n",
        "csv_path = './drive/MyDrive/NICE/'\n",
        "val_set = pd.read_csv(f'{csv_path}/nice-val-5k.csv')\n",
        "val_set = pd.read_csv(f'{csv_path}/nice-test.csv')"
      ]
    },
    {
      "cell_type": "markdown",
      "metadata": {
        "id": "YJMIuT_qBV6S"
      },
      "source": [
        "이미지 데이터, tsv 형식(img_id, '\\t', img_content)(base64 인코딩):"
      ]
    },
    {
      "cell_type": "code",
      "execution_count": null,
      "metadata": {
        "colab": {
          "background_save": true,
          "base_uri": "https://localhost:8080/"
        },
        "id": "1fNYmfIXBMQ_",
        "outputId": "058fd022-96b1-46df-cec9-e86872ab3428"
      },
      "outputs": [
        {
          "name": "stderr",
          "output_type": "stream",
          "text": [
            "100%|██████████| 21377/21377 [1:32:48<00:00,  3.84it/s]\n"
          ]
        }
      ],
      "source": [
        "from PIL import Image\n",
        "from io import BytesIO\n",
        "from tqdm import tqdm\n",
        "import base64\n",
        "\n",
        "result = []\n",
        "for pic_id in  tqdm(val_set['public_id'], total = len(val_set)):\n",
        "  img = Image.open(f'{csv_path}cvpr-nice-test/{pic_id}.jpg') # path to file\n",
        "  img_buffer = BytesIO()\n",
        "  img.save(img_buffer, format=img.format)\n",
        "  byte_data = img_buffer.getvalue()\n",
        "  base64_str = base64.b64encode(byte_data) # bytes\n",
        "  base64_str = base64_str.decode(\"utf-8\") # str\n",
        "\n",
        "  resultStr = str(pic_id) + '\\t' + base64_str\n",
        "  result.append(resultStr)\n",
        "  "
      ]
    },
    {
      "cell_type": "code",
      "execution_count": null,
      "metadata": {
        "id": "fFFI3X9IEiyD"
      },
      "outputs": [],
      "source": [
        "import csv\n",
        "resultDF = pd.DataFrame(result)\n",
        "\n",
        "\n",
        "resultDF.to_csv(f'{csv_path}/train_image(need to delete backslash).tsv',sep='\\t', encoding = 'utf-8', index = False, header=None, quoting=csv.QUOTE_NONE,escapechar='\\\\' ) \n",
        "#str에서 큰따옴표가 앞뒤로 저장되는 개같은현상\n",
        "#vs에서 저장후 재업로드.."
      ]
    },
    {
      "cell_type": "markdown",
      "metadata": {
        "id": "2v-xKpefJfgO"
      },
      "source": [
        "캡션 데이터, jsonl 형식:\n",
        "{\"image_id\": \"007c720f1d8c04104096aeece425b2d5\", \"text\": [\"性感名媛蕾丝裙，尽显优雅撩人气质\", \"衣千亿"
      ]
    },
    {
      "cell_type": "code",
      "execution_count": null,
      "metadata": {
        "colab": {
          "base_uri": "https://localhost:8080/"
        },
        "id": "l9slTJQSYr-4",
        "outputId": "5489a96f-dda2-4dff-db22-b1ab93e5371b"
      },
      "outputs": [
        {
          "name": "stdout",
          "output_type": "stream",
          "text": [
            "Looking in indexes: https://pypi.org/simple, https://us-python.pkg.dev/colab-wheels/public/simple/\n",
            "Collecting jsonlines\n",
            "  Downloading jsonlines-3.1.0-py3-none-any.whl (8.6 kB)\n",
            "Requirement already satisfied: attrs>=19.2.0 in /usr/local/lib/python3.9/dist-packages (from jsonlines) (22.2.0)\n",
            "Installing collected packages: jsonlines\n",
            "Successfully installed jsonlines-3.1.0\n"
          ]
        }
      ],
      "source": [
        "!pip install jsonlines"
      ]
    },
    {
      "cell_type": "code",
      "execution_count": null,
      "metadata": {
        "id": "rLrWOmSoYk2K"
      },
      "outputs": [],
      "source": [
        "import jsonlines\n",
        "\n",
        "# 예시 데이터\n",
        "caption_result = []\n",
        "imsi_result = {}\n",
        "for index, i in enumerate(val_set['public_id']):\n",
        "  imsi_result['image_id'] = str(i)\n",
        "  imsi_result['text'] = [val_set['caption_gt'][index]]\n",
        "  a = imsi_result.copy()\n",
        "  caption_result.append(a)\n",
        "\n",
        "\n",
        "\n",
        "# 파일에 JSONNL 형식으로 데이터 저장\n",
        "with jsonlines.open(f'{csv_path}/train_caption.jsonl', mode='w') as writer:\n",
        "    for item in caption_result:\n",
        "        writer.write(item)\n"
      ]
    }
  ],
  "metadata": {
    "colab": {
      "provenance": [],
      "authorship_tag": "ABX9TyNMhN7Jwpu5o9pQJ8EB6o1a",
      "include_colab_link": true
    },
    "kernelspec": {
      "display_name": "Python 3",
      "name": "python3"
    },
    "language_info": {
      "name": "python"
    }
  },
  "nbformat": 4,
  "nbformat_minor": 0
}